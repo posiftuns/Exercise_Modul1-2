{
 "cells": [
  {
   "cell_type": "markdown",
   "metadata": {},
   "source": [
    "***\n",
    "<h1 align=\"center\">Exercise 1</h1>\n",
    " \n",
    "***\n"
   ]
  },
  {
   "cell_type": "markdown",
   "metadata": {},
   "source": [
    "Nama&nbsp;&nbsp;: [Isi Nama kalian] <br>\n",
    "NIM&emsp;&nbsp;: [Isi NIM kalian]\n",
    "<br>Kelas&nbsp;&nbsp;&nbsp; : [Isi Kelas kalian]"
   ]
  },
  {
   "cell_type": "markdown",
   "metadata": {},
   "source": [
    "## Mengerjakan Exercise\n",
    "Kalian akan mengerjakan sebagian besar *exercise* pada file berformat **.ipynb**. Petunjuk maupun perintah pengerjaan *exercise* tersedia pada Cell **Markdown** ini dan kalian akan mengerjakkan *exercise* yang sebagian besar merupakan pembuatan kode program pada Cell **Python** dibawah.\n",
    "\n",
    "Ikuti instruksi yang ada! "
   ]
  },
  {
   "cell_type": "markdown",
   "metadata": {},
   "source": [
    "## Pengantar"
   ]
  },
  {
   "cell_type": "code",
   "execution_count": null,
   "metadata": {},
   "outputs": [],
   "source": [
    "# Klik button play di samping kiri untuk menjalankan nya\n",
    "\n",
    "name = \"Hello World\"\n",
    "print(name)"
   ]
  },
  {
   "cell_type": "code",
   "execution_count": null,
   "metadata": {},
   "outputs": [],
   "source": [
    "# Ketikkan: print(\"Welcome to Prokom\") "
   ]
  },
  {
   "cell_type": "markdown",
   "metadata": {},
   "source": [
    "Pada saat kalian menjalankan kode program yang membutuhkan input. Kalian bisa menginputkannya pada **Pop up**.<br>\n",
    "Untuk mencobanya, coba kalian jalankan kode Python di bawah dan coba inputkan string <font color='yellow'>Kata-Kata Hari Ini</font>. Kemudian tekan enter."
   ]
  },
  {
   "cell_type": "code",
   "execution_count": null,
   "metadata": {},
   "outputs": [],
   "source": [
    "# <<< Klik play untuk menjalankan kode di bawah\n",
    "print(str(input(\"Ketikkan Pesan: \")))\n"
   ]
  },
  {
   "cell_type": "markdown",
   "metadata": {},
   "source": [
    "## Input dan Variabel"
   ]
  },
  {
   "cell_type": "markdown",
   "metadata": {},
   "source": [
    "Isilah titik-titik sesuai dengan perintah yang ada, kemudian jalankan kode tersebut."
   ]
  },
  {
   "cell_type": "code",
   "execution_count": null,
   "metadata": {},
   "outputs": [],
   "source": [
    "# Kerjakan langsung disini\n",
    "Nama = \"...\"\n",
    "nama = \"...\"\n",
    "print(\"nama lengkap saya adalah = \", Nama)\n",
    "print(\"nama panggilan saya adalah = \", nama)\n",
    "\n",
    "_umur = ...# Isilah dengan angka\n",
    "print(\"Umur saya saat ini adalah = \",_umur)\n",
    "print(\"tipe data variabel Umur adalah = \",type(_umur))\n",
    "\n",
    "_umur = \"...\" #Isilah dengan huruf/karakter\n",
    "print(\"Umur saya saat ini adalah = \",_umur)\n",
    "print(\"tipe data variabel Umur adalah = \",type(_umur))\n",
    "\n",
    "# Isilah dengan menggunakan (.) jika menggunakan bilangan desimal\n",
    "tinggi_badan = float(...) \n",
    "print(\"tinggi badan saya saat ini adalah = \",tinggi_badan)\n",
    "print(\"tipe data variabel tinggi badan adalah = \",type(tinggi_badan))\n",
    "\n",
    "berat_badan = float(...) \n",
    "print(\"tinggi badan saya saat ini adalah = \",berat_badan)\n",
    "print(\"tipe data variabel tinggi badan adalah = \",type(berat_badan))\n",
    "\n",
    "# Isilah dengan Boolean\n",
    "mahasiswaangkatan2023 = ...\n",
    "print(\"saya merupakan mahasiswa angkatan 2023 adalah = \",mahasiswaangkatan2023)\n",
    "print(\"tipe data variabel mahasiswa angkatan 2023 adalah = \",type(mahasiswaangkatan2023))"
   ]
  },
  {
   "cell_type": "markdown",
   "metadata": {},
   "source": [
    "Isilah kode di bawah ini dengan perintah yang sesuai, kemudian jalankan kode tersebut."
   ]
  },
  {
   "cell_type": "code",
   "execution_count": null,
   "metadata": {},
   "outputs": [],
   "source": [
    "#Kerjakan langsung disini\n",
    "\n",
    "length = int(input(\"masukan nilai panjang dalam meter : \")) # Masukkan dengan digit NIM terakhir anda, jika terakhir angka 0 ambil pada digit sebelumnya\n",
    "feet = length / 0.3048\n",
    "\n",
    "print(\"\")\n",
    "print(length, \"m =\", length / 1000, \"km\")\n",
    "print(length, \"m =\", length * 100, \"cm\")\n",
    "print(length, \"m =\", length * 1000, \"mm\")\n",
    "print(length, \"m =\", length * 1000000, \"μm\")\n",
    "print(length, \"m =\", length * 1000000000, \"nm\")\n",
    "print(length, \"m =\", round(feet * 12, 4), \"in\")\n",
    "print(length, \"m =\", round(feet, 4), \"ft\")\n",
    "print(length, \"m =\", round(feet / 3, 4), \"yard\")\n"
   ]
  },
  {
   "cell_type": "markdown",
   "metadata": {},
   "source": [
    "## Tipe Data"
   ]
  },
  {
   "cell_type": "markdown",
   "metadata": {},
   "source": [
    "Tipe Data pada python dibagi menjadi 6, antara lain:\n",
    "- Tipe data teks / string\n",
    "- Tipe data angka\n",
    "- Tipe data boolean\n",
    "- Tipe data sequences\n",
    "- Tipe data dictionary\n",
    "- Tipe data set"
   ]
  },
  {
   "cell_type": "code",
   "execution_count": null,
   "metadata": {},
   "outputs": [],
   "source": [
    "# Mengubah String menjadi Integer\n",
    "nim = \"...\" # Masukkan 3 angka terakhir NIM kalian\n",
    "print(type(nim))\n",
    "\n",
    "nim = int(nim)\n",
    "print(type(nim))"
   ]
  },
  {
   "cell_type": "code",
   "execution_count": null,
   "metadata": {},
   "outputs": [],
   "source": [
    "# Mengubah Integer menjadi float dan boolean\n",
    "\n",
    "Ukuran_Sepatu = ... # Masukkan ukuran sepatu kalian\n",
    "print(type(Ukuran_Sepatu))\n",
    "\n",
    "Ukuran_Sepatu = float(Ukuran_Sepatu)\n",
    "print(type(Ukuran_Sepatu))\n",
    "\n",
    "if Ukuran_Sepatu != 0:\n",
    "    Ukuran_Sepatu = True\n",
    "    print(type(Ukuran_Sepatu))"
   ]
  },
  {
   "cell_type": "markdown",
   "metadata": {},
   "source": [
    "Setelah menyelesaikan tipe data primitif primitif (teks, angka, boolean), selanjutnya masuk ke tipe data sequences, dictionary, dan set. \n",
    "Kerjakan dan lengkapilah progam di bawah ini."
   ]
  },
  {
   "cell_type": "markdown",
   "metadata": {},
   "source": [
    "## LIST SET TUPLE DICTIONARY\n",
    "\n",
    "Pertama buatlah sebuah list, tuple, dan dictionary dengan nama variabel \"biodata\" dan isikan elemen terdiri dari :\n",
    "\n",
    "* Nama (string)\n",
    "* NIM  (string)\n",
    "* Umur (int)\n",
    "* Kota Asal (string)\n",
    "* Hobi  (string)\n"
   ]
  },
  {
   "cell_type": "markdown",
   "metadata": {},
   "source": [
    "### LIST"
   ]
  },
  {
   "cell_type": "code",
   "execution_count": null,
   "metadata": {},
   "outputs": [],
   "source": [
    "# BUATLAH LIST KALIAN SESUAI KETERANGAN DIATAS\n",
    "biodata = []\n",
    "\n",
    "print(biodata)\n",
    "print(type(biodata)) # Output menunjukkan kelas list"
   ]
  },
  {
   "cell_type": "code",
   "execution_count": null,
   "metadata": {},
   "outputs": [],
   "source": [
    "# PENEMPATAN INDEKS SESUAI DATA KALIAN MASING-MASING DISINI\n",
    "print(\"BIODATA\\n\\nNama\\t:\", biodata[0],\n",
    "      \"\\nNIM\\t:\",biodata[1],\n",
    "      \"\\nUSIA\\t:\",biodata[2],\n",
    "      \"\\nAsal\\t:\",biodata[3],\n",
    "      \"\\nHobi\\t:\",biodata[4])\n",
    "# Note: Misal nama kalian berada pada list pertama, maka diisi dengan biodata[0] berlaku seterusnya dan pastikan semuanya sesuai"
   ]
  },
  {
   "cell_type": "code",
   "execution_count": null,
   "metadata": {},
   "outputs": [],
   "source": [
    "# TAMBAHKAN HOBI KALIAN JIKA LEBIH DARI SATU \n",
    "biodata[4]= [\"Game\",\"Basket\",\"Rebahan\",\"...\"]\n",
    "print(biodata)"
   ]
  },
  {
   "cell_type": "code",
   "execution_count": null,
   "metadata": {},
   "outputs": [],
   "source": [
    "# HAPUS USIA PADA LIST KALIAN\n",
    "biodata.remove()\n",
    "print(biodata)"
   ]
  },
  {
   "cell_type": "code",
   "execution_count": null,
   "metadata": {},
   "outputs": [],
   "source": [
    "# TAMBAHKAN PROGAM STUDI PADA LIST KALIAN\n",
    "biodata.append(\"\")\n",
    "print(biodata)"
   ]
  },
  {
   "cell_type": "code",
   "execution_count": null,
   "metadata": {},
   "outputs": [],
   "source": [
    "#TULIS ULANG LIST KALIAN SEPERTI SEBELUMNYA DENGAN DATA TERBARU\n",
    "print(\"BIODATA\\n-\\nNama\\t:\", biodata[0],\n",
    "      \"\\nNIM\\t:\",biodata[1],\n",
    "      \"\\nAsal\\t:\",biodata[2],\n",
    "      \"\\nHobi\\t:\",biodata[3],\n",
    "      \"\\nProdi\\t:\",biodata[4])"
   ]
  },
  {
   "cell_type": "markdown",
   "metadata": {},
   "source": [
    "### TUPLE"
   ]
  },
  {
   "cell_type": "code",
   "execution_count": null,
   "metadata": {},
   "outputs": [],
   "source": [
    "# BUATLAH TUPLE KALIAN DISINI\n",
    "biodata = ()\n",
    "\n",
    "print(biodata)\n",
    "print(type(biodata)) # Output menunjukkan kelas tuple"
   ]
  },
  {
   "cell_type": "markdown",
   "metadata": {},
   "source": [
    "### DICTIONARY"
   ]
  },
  {
   "cell_type": "code",
   "execution_count": null,
   "metadata": {},
   "outputs": [],
   "source": [
    "# SILAHKAN ISI CODE RUMPANG BERIKUT SESUAI KONDISI KALIAN\n",
    "biodata = {'nama_depan':'...','nama_belakang':'...','usia':...,'kota_asal':'...','hobi':'...'}\n",
    "print('Nama Lengkap:' + biodata['nama_depan'] + ' ' + biodata['nama_belakang'])\n",
    "\n",
    "# MENAMBAHKAN KEY & VALUE \"PROGAM STUDI\"\n",
    "biodata['prodi'] = '...'\n",
    "print(biodata)\n",
    "\n",
    "# MENGUBAH VALUE PADA SEBUAH DICTIONARY\n",
    "biodata['hobi'] = '...'\n",
    "print(biodata)\n",
    "\n",
    "# MENGHAPUS SALAH SATU KEY-VALUE PAIRS\n",
    "del biodata['...'] # Isi salah satu keys yang terdapat pada biodata\n",
    "print(biodata)"
   ]
  },
  {
   "cell_type": "markdown",
   "metadata": {},
   "source": [
    "### SET"
   ]
  },
  {
   "cell_type": "code",
   "execution_count": null,
   "metadata": {},
   "outputs": [],
   "source": [
    "# Masukkan angkatan industri aktif bisa dimulai dari 2020\n",
    "angkatan_industri_aktif = {} # Isilah set dengan tahun angkatan industri aktif\n",
    "\n",
    "print(angkatan_industri_aktif)\n",
    "print(type(angkatan_industri_aktif)) # Output menunjukkan kelas set"
   ]
  },
  {
   "cell_type": "markdown",
   "metadata": {},
   "source": [
    "***\n",
    "<h1 align=\"center\">Exercise 02</h1>\n",
    " \n",
    "***\n",
    "## Operator Aritmetika"
   ]
  },
  {
   "cell_type": "code",
   "execution_count": null,
   "metadata": {},
   "outputs": [],
   "source": [
    "# Kerjakan disini\n",
    "# Ubah variabel **x** dengan **3 digit terakhir nim kalian** dan ubah variabel **y** dengan **tanggal kalian mengerjakan**.\n",
    "\n",
    "x = ...\n",
    "y = ...\n",
    "print('x + y =',x+y)\n",
    "print('x - y =',x-y)\n",
    "print('x * y =',x*y)\n",
    "print('x / y =',x/y)\n",
    "print('x // y =',x//y)\n",
    "print('x ** y =',x**y)\n"
   ]
  },
  {
   "cell_type": "markdown",
   "metadata": {},
   "source": [
    "## Operator Perbandingan/*Comparison*\n",
    "Buatlah kode seperti berikut dan jalankan!\n"
   ]
  },
  {
   "cell_type": "code",
   "execution_count": null,
   "metadata": {},
   "outputs": [],
   "source": [
    "# Kerjakan disini\n",
    " \n",
    "x = ...\n",
    "y = ...\n",
    "\n",
    "print('x > y is',x>y)\n",
    "print('x < y is',x>y)\n",
    "print('x == y is',x==y)\n",
    "print('x != y is',x!=y)\n",
    "print('x >= y is',x>=y)\n",
    "print('x <= y is',x<=y)\n"
   ]
  },
  {
   "cell_type": "markdown",
   "metadata": {},
   "source": [
    "## Operator Penugasan/Assignment"
   ]
  },
  {
   "cell_type": "code",
   "execution_count": null,
   "metadata": {},
   "outputs": [],
   "source": [
    "# Kerjakan disini\n",
    "x = ...\n",
    "y = ...\n",
    "\n",
    "# Isilah bagian yang rumpang\n",
    "x += ... # Tambahkan dengan Bulan kalian mengerjakan\n",
    "print(\"Hasilnya menjadi: \",x)\n",
    "\n",
    "x -= ... # Kurangkan dengan Bulan kalian mengerjakan\n",
    "print(\"Hasilnya menjadi: \",x)\n",
    "\n",
    "y ...= 2 #Ganti titik-titik dengan modulus\n",
    "print(\"Hasil dari modulus: \", y)\n",
    "\n",
    "y ...= 2 # Ganti titik-titik dengan pembagian bilangan bulat\n",
    "print(\"Hasil pembagian bilangan bulat menjadi: \", y)\n"
   ]
  },
  {
   "cell_type": "markdown",
   "metadata": {},
   "source": [
    "## Operator Logika\n",
    "Lengkapi kode program yang rumpang dibawah!\n"
   ]
  },
  {
   "cell_type": "code",
   "execution_count": null,
   "metadata": {},
   "outputs": [],
   "source": [
    "# Kerjakan disini\n",
    "x = ...\n",
    "y = ...\n",
    "print('x > 5 and 10 < y is',x>5 and 10 < y) \n",
    "print('x or y more than or equal to 10 is', ...) #Isi titik2 seperti sebelumnya\n",
    "print('x or y not more than or equal to 10 is',not(...))"
   ]
  },
  {
   "cell_type": "markdown",
   "metadata": {},
   "source": [
    "## Operator Bitwise"
   ]
  },
  {
   "cell_type": "code",
   "execution_count": null,
   "metadata": {},
   "outputs": [],
   "source": [
    "# Kerjakan disini\n",
    "x = ...\n",
    "y = ...\n",
    "print(\"x & y =\", x & y)\n",
    "print(\"x | y =\", x | y)\n",
    "print(\"~x =\", ~x)\n",
    "print(\"x ^ y =\", x ^ y)\n"
   ]
  },
  {
   "cell_type": "markdown",
   "metadata": {},
   "source": [
    "## Operator Keanggotaan & Identitas"
   ]
  },
  {
   "cell_type": "code",
   "execution_count": null,
   "metadata": {},
   "outputs": [],
   "source": [
    "# Kerjakan disini\n",
    "# Isi nilai x dengan Nama Anda\n",
    "# Isi nilai y dengan 3 Warna kesukaan Anda \n",
    "x = \"...\"\n",
    "y = [\"...\"]\n",
    "\n",
    "print(\"Apakah Huruf 'P' terdapat pada Nama anda?\", \n",
    "      'p' in x)\n",
    "print(\"Apakah Merah tidak terdapat pada pilihan anda?\", 'Merah' not in y)"
   ]
  },
  {
   "cell_type": "code",
   "execution_count": null,
   "metadata": {},
   "outputs": [],
   "source": [
    "# Kerjakan disini\n",
    "# Isi nilai x dengan angka 1-3\n",
    "# Isi nilai y dengan dengan digit terakhir NIM\n",
    "x = ...\n",
    "y = ...\n",
    "Nilai = x is not y\n",
    "print(\"Benarkah x tidak terdapat pada y?\", Nilai)"
   ]
  },
  {
   "cell_type": "markdown",
   "metadata": {},
   "source": [
    "## Operator String\n",
    "\n",
    "### 1. Concat strings\n",
    "Buat kode program pada cell selanjutnya seperti contoh berikut ini dengan mengubah variabel **str1** dengan nama depan kalian dan **str2** dengan nama belakang kalian!\n"
   ]
  },
  {
   "cell_type": "code",
   "execution_count": null,
   "metadata": {},
   "outputs": [],
   "source": [
    "# Kerjakan disini\n",
    "\n",
    "str1 = \"...\"\n",
    "str2 = \"...\"\n",
    "result = str1 + ' ' + str2\n",
    "print(result)"
   ]
  },
  {
   "cell_type": "markdown",
   "metadata": {},
   "source": [
    "### 2. Replikasi dan panjang strings\n",
    "Buat kode program pada cell selanjutnya seperti contoh berikut ini!"
   ]
  },
  {
   "cell_type": "code",
   "execution_count": null,
   "metadata": {},
   "outputs": [],
   "source": [
    "# Kerjakan disini\n",
    "\n",
    "str = \"...\" #isi dengan 2 huruf bebas\n",
    "result = str * 3\n",
    "print(result)\n",
    "print(len(result))"
   ]
  },
  {
   "cell_type": "markdown",
   "metadata": {},
   "source": [
    "### 3. Mengakses karakter dalam string\n",
    "Buat kode program pada cell selanjutnya seperti contoh berikut ini dengan mengubah variabel **str** dengan nama depan kalian!\n",
    "Kemudian jalankan program yang dibuat."
   ]
  },
  {
   "cell_type": "code",
   "execution_count": null,
   "metadata": {},
   "outputs": [],
   "source": [
    "# Kerjakan disini\n",
    "str = \"...\"\n",
    "ch = str[...] # Isi dengan indeks bebas\n",
    "print(ch)\n"
   ]
  },
  {
   "cell_type": "markdown",
   "metadata": {},
   "source": [
    "### 4. Substring\n",
    "Buatlah program yang memberi output **3** huruf terakhir dari **nama depan** kalian!\n",
    "Kemudian jalankan program yang dibuat."
   ]
  },
  {
   "cell_type": "code",
   "execution_count": null,
   "metadata": {},
   "outputs": [],
   "source": [
    "# Kerjakan disini\n",
    "str = \"...\"\n",
    "substr = str[...:...]\n",
    "print(substr)\n"
   ]
  },
  {
   "cell_type": "markdown",
   "metadata": {},
   "source": [
    "### 5. Skipping characters\n",
    "Buatlah program yang memberi output substring berindeks ganjil dari string **nama kota asal kalian**!\n",
    "Kemudian jalankan program yang dibuat."
   ]
  },
  {
   "cell_type": "code",
   "execution_count": null,
   "metadata": {},
   "outputs": [],
   "source": [
    "# Kerjakan disini\n",
    "str = ...\n",
    "new_str = str[...::...] #Isi titik2\n",
    "print(new_str)\n"
   ]
  },
  {
   "cell_type": "markdown",
   "metadata": {},
   "source": [
    "### 6. Reverse string\n",
    "Buatlah program yang membalikkan string **nama kota asal kalian**!\n",
    "Kemudian jalankan program yang dibuat."
   ]
  },
  {
   "cell_type": "code",
   "execution_count": null,
   "metadata": {},
   "outputs": [],
   "source": [
    "# Kerjakan disini\n",
    "str = ...\n",
    "result = ... # Isi titik2\n",
    "print(result)\n"
   ]
  },
  {
   "cell_type": "markdown",
   "metadata": {},
   "source": [
    "***\n",
    "<h1 align=\"center\">Well Done!!!</h1> \n",
    "\n",
    "***"
   ]
  }
 ],
 "metadata": {
  "interpreter": {
   "hash": "ac59ebe37160ed0dfa835113d9b8498d9f09ceb179beaac4002f036b9467c963"
  },
  "kernelspec": {
   "display_name": "Python 3.9.8 64-bit",
   "language": "python",
   "name": "python3"
  },
  "language_info": {
   "codemirror_mode": {
    "name": "ipython",
    "version": 3
   },
   "file_extension": ".py",
   "mimetype": "text/x-python",
   "name": "python",
   "nbconvert_exporter": "python",
   "pygments_lexer": "ipython3",
   "version": "3.12.2"
  },
  "orig_nbformat": 4
 },
 "nbformat": 4,
 "nbformat_minor": 2
}
